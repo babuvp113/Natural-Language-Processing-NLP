{
 "cells": [
  {
   "cell_type": "markdown",
   "metadata": {},
   "source": [
    "In Order to work with Word2Vec you need to install \"gensim\" package with the help of below command."
   ]
  },
  {
   "cell_type": "code",
   "execution_count": 1,
   "metadata": {},
   "outputs": [
    {
     "name": "stdout",
     "output_type": "stream",
     "text": [
      "Collecting gensim\n",
      "  Downloading gensim-3.8.3-cp37-cp37m-win_amd64.whl (24.2 MB)\n",
      "Requirement already satisfied: scipy>=0.18.1 in c:\\users\\ebabbpa\\appdata\\local\\continuum\\anaconda3\\lib\\site-packages (from gensim) (1.3.2)\n",
      "Collecting smart-open>=1.8.1\n",
      "  Downloading smart_open-2.0.0.tar.gz (103 kB)\n",
      "Requirement already satisfied: six>=1.5.0 in c:\\users\\ebabbpa\\appdata\\local\\continuum\\anaconda3\\lib\\site-packages (from gensim) (1.13.0)\n",
      "Requirement already satisfied: numpy>=1.11.3 in c:\\users\\ebabbpa\\appdata\\local\\continuum\\anaconda3\\lib\\site-packages (from gensim) (1.18.1)\n",
      "Requirement already satisfied: Cython==0.29.14 in c:\\users\\ebabbpa\\appdata\\local\\continuum\\anaconda3\\lib\\site-packages (from gensim) (0.29.14)\n",
      "Requirement already satisfied: requests in c:\\users\\ebabbpa\\appdata\\local\\continuum\\anaconda3\\lib\\site-packages (from smart-open>=1.8.1->gensim) (2.22.0)\n",
      "Requirement already satisfied: boto in c:\\users\\ebabbpa\\appdata\\local\\continuum\\anaconda3\\lib\\site-packages (from smart-open>=1.8.1->gensim) (2.49.0)\n",
      "Collecting boto3\n",
      "  Downloading boto3-1.13.26-py2.py3-none-any.whl (128 kB)\n",
      "Requirement already satisfied: chardet<3.1.0,>=3.0.2 in c:\\users\\ebabbpa\\appdata\\local\\continuum\\anaconda3\\lib\\site-packages (from requests->smart-open>=1.8.1->gensim) (3.0.4)\n",
      "Requirement already satisfied: idna<2.9,>=2.5 in c:\\users\\ebabbpa\\appdata\\local\\continuum\\anaconda3\\lib\\site-packages (from requests->smart-open>=1.8.1->gensim) (2.8)\n",
      "Requirement already satisfied: certifi>=2017.4.17 in c:\\users\\ebabbpa\\appdata\\local\\continuum\\anaconda3\\lib\\site-packages (from requests->smart-open>=1.8.1->gensim) (2019.11.28)\n",
      "Requirement already satisfied: urllib3!=1.25.0,!=1.25.1,<1.26,>=1.21.1 in c:\\users\\ebabbpa\\appdata\\local\\continuum\\anaconda3\\lib\\site-packages (from requests->smart-open>=1.8.1->gensim) (1.25.7)\n",
      "Collecting botocore<1.17.0,>=1.16.26\n",
      "  Downloading botocore-1.16.26-py2.py3-none-any.whl (6.2 MB)\n",
      "Collecting jmespath<1.0.0,>=0.7.1\n",
      "  Downloading jmespath-0.10.0-py2.py3-none-any.whl (24 kB)\n",
      "Collecting s3transfer<0.4.0,>=0.3.0\n",
      "  Downloading s3transfer-0.3.3-py2.py3-none-any.whl (69 kB)\n",
      "Requirement already satisfied: docutils<0.16,>=0.10 in c:\\users\\ebabbpa\\appdata\\local\\continuum\\anaconda3\\lib\\site-packages (from botocore<1.17.0,>=1.16.26->boto3->smart-open>=1.8.1->gensim) (0.15.2)\n",
      "Requirement already satisfied: python-dateutil<3.0.0,>=2.1 in c:\\users\\ebabbpa\\appdata\\local\\continuum\\anaconda3\\lib\\site-packages (from botocore<1.17.0,>=1.16.26->boto3->smart-open>=1.8.1->gensim) (2.8.1)\n",
      "Building wheels for collected packages: smart-open\n",
      "  Building wheel for smart-open (setup.py): started\n",
      "  Building wheel for smart-open (setup.py): finished with status 'done'\n",
      "  Created wheel for smart-open: filename=smart_open-2.0.0-py3-none-any.whl size=101346 sha256=1fb303e37397bcd368939dd3d5be35532ffd692cd561ba0eb751ad42bf82eca4\n",
      "  Stored in directory: c:\\users\\ebabbpa\\appdata\\local\\pip\\cache\\wheels\\bb\\1c\\9c\\412ec03f6d5ac7d41f4b965bde3fc0d1bd201da5ba3e2636de\n",
      "Successfully built smart-open\n",
      "Installing collected packages: jmespath, botocore, s3transfer, boto3, smart-open, gensim\n",
      "Successfully installed boto3-1.13.26 botocore-1.16.26 gensim-3.8.3 jmespath-0.10.0 s3transfer-0.3.3 smart-open-2.0.0\n",
      "Note: you may need to restart the kernel to use updated packages.\n"
     ]
    }
   ],
   "source": [
    "pip install gensim"
   ]
  },
  {
   "cell_type": "code",
   "execution_count": 1,
   "metadata": {},
   "outputs": [],
   "source": [
    "from gensim.models import Word2Vec"
   ]
  },
  {
   "cell_type": "code",
   "execution_count": 2,
   "metadata": {},
   "outputs": [],
   "source": [
    "sentences = [['i', 'like', 'apple', 'pie', 'for', 'dessert'],\n",
    "            ['i', 'dont', 'drive', 'fast', 'cars'],\n",
    "            ['data', 'science', 'is', 'fun'],\n",
    "            ['chocolate', 'is', 'my', 'favorite'],\n",
    "            ['my', 'favorite', 'movie', 'is', 'predator']]"
   ]
  },
  {
   "cell_type": "code",
   "execution_count": 4,
   "metadata": {},
   "outputs": [],
   "source": [
    "w2v = Word2Vec(sentences,min_count=1, size=5)"
   ]
  },
  {
   "cell_type": "markdown",
   "metadata": {},
   "source": [
    "Notice when constructing the model, I pass in min_count =1 and size = 5. That means it will include all words that occur ≥ 1 time and generate a vector with a fixed length of 5.\n",
    "Notice when printed, the model displays the count of unique vocab words, array size, and learning rate (default .025)"
   ]
  },
  {
   "cell_type": "code",
   "execution_count": 6,
   "metadata": {},
   "outputs": [
    {
     "name": "stdout",
     "output_type": "stream",
     "text": [
      "Word2Vec(vocab=19, size=5, alpha=0.025)\n"
     ]
    }
   ],
   "source": [
    "print(w2v)"
   ]
  },
  {
   "cell_type": "code",
   "execution_count": 7,
   "metadata": {},
   "outputs": [
    {
     "name": "stdout",
     "output_type": "stream",
     "text": [
      "[0.01135635 0.00535209 0.06072215 0.07708461 0.0146246 ]\n"
     ]
    },
    {
     "name": "stderr",
     "output_type": "stream",
     "text": [
      "C:\\Users\\ebabbpa\\AppData\\Local\\Continuum\\anaconda3\\lib\\site-packages\\ipykernel_launcher.py:2: DeprecationWarning: Call to deprecated `__getitem__` (Method will be removed in 4.0.0, use self.wv.__getitem__() instead).\n",
      "  \n"
     ]
    }
   ],
   "source": [
    "# access vector for one word\n",
    "print(w2v['chocolate'])"
   ]
  },
  {
   "cell_type": "markdown",
   "metadata": {},
   "source": [
    "So here each word will be represented in terms of Vector of fixed length 5."
   ]
  },
  {
   "cell_type": "code",
   "execution_count": 8,
   "metadata": {},
   "outputs": [
    {
     "name": "stdout",
     "output_type": "stream",
     "text": [
      "[-0.053853    0.0393076  -0.05750771 -0.07489672 -0.08306628]\n"
     ]
    },
    {
     "name": "stderr",
     "output_type": "stream",
     "text": [
      "C:\\Users\\ebabbpa\\AppData\\Local\\Continuum\\anaconda3\\lib\\site-packages\\ipykernel_launcher.py:1: DeprecationWarning: Call to deprecated `__getitem__` (Method will be removed in 4.0.0, use self.wv.__getitem__() instead).\n",
      "  \"\"\"Entry point for launching an IPython kernel.\n"
     ]
    }
   ],
   "source": [
    "print(w2v['favorite'])"
   ]
  },
  {
   "cell_type": "markdown",
   "metadata": {},
   "source": [
    "In Order to see which all words are there in the Vocabulary use the below code."
   ]
  },
  {
   "cell_type": "code",
   "execution_count": 10,
   "metadata": {},
   "outputs": [
    {
     "name": "stdout",
     "output_type": "stream",
     "text": [
      "['i', 'like', 'apple', 'pie', 'for', 'dessert', 'dont', 'drive', 'fast', 'cars', 'data', 'science', 'is', 'fun', 'chocolate', 'my', 'favorite', 'movie', 'predator']\n"
     ]
    }
   ],
   "source": [
    "words = list(w2v.wv.vocab)\n",
    "print(words)"
   ]
  },
  {
   "cell_type": "code",
   "execution_count": 12,
   "metadata": {},
   "outputs": [
    {
     "name": "stderr",
     "output_type": "stream",
     "text": [
      "C:\\Users\\ebabbpa\\AppData\\Local\\Continuum\\anaconda3\\lib\\site-packages\\ipykernel_launcher.py:1: DeprecationWarning: Call to deprecated `__getitem__` (Method will be removed in 4.0.0, use self.wv.__getitem__() instead).\n",
      "  \"\"\"Entry point for launching an IPython kernel.\n"
     ]
    },
    {
     "data": {
      "text/plain": [
       "array([[-0.04773656, -0.02283037, -0.03700544,  0.05760916, -0.04727065],\n",
       "       [ 0.04244933, -0.02432232,  0.00206773,  0.06364617,  0.01977875],\n",
       "       [-0.0637365 , -0.09173283,  0.02516129,  0.03645008,  0.07189355],\n",
       "       [-0.03207526, -0.0803313 ,  0.09209522, -0.01923129,  0.02585856],\n",
       "       [-0.03476797,  0.09517377, -0.01101576,  0.05687603, -0.00725441],\n",
       "       [-0.09783852, -0.02122864, -0.04475309, -0.04136759,  0.00542956],\n",
       "       [-0.09066465, -0.02049814,  0.0412379 , -0.08988182,  0.09197472],\n",
       "       [-0.05416853, -0.0967279 , -0.06245529,  0.03338588, -0.06693397],\n",
       "       [ 0.03509456, -0.0656772 , -0.02265296, -0.08254953, -0.0854262 ],\n",
       "       [-0.00823897, -0.09916965,  0.02474985,  0.03573187, -0.02571249],\n",
       "       [-0.00479005, -0.05009684, -0.02478708,  0.03320211,  0.0006633 ],\n",
       "       [ 0.04164624, -0.07037939,  0.01377771, -0.04169133, -0.00404389],\n",
       "       [-0.07838225, -0.06758871,  0.0375312 , -0.00216597,  0.07604183],\n",
       "       [ 0.02822826,  0.07632778,  0.05182105,  0.02294994,  0.02181716],\n",
       "       [ 0.01135635,  0.00535209,  0.06072215,  0.07708461,  0.0146246 ],\n",
       "       [-0.01428392,  0.01455544,  0.00229905,  0.04594326,  0.03366367],\n",
       "       [-0.053853  ,  0.0393076 , -0.05750771, -0.07489672, -0.08306628],\n",
       "       [-0.02500214,  0.01925037, -0.05184149, -0.08602561,  0.06983475],\n",
       "       [ 0.08235007, -0.09806667,  0.02006571,  0.00543451, -0.01216663]],\n",
       "      dtype=float32)"
      ]
     },
     "execution_count": 12,
     "metadata": {},
     "output_type": "execute_result"
    }
   ],
   "source": [
    "X = w2v[w2v.wv.vocab]\n",
    "X"
   ]
  },
  {
   "cell_type": "markdown",
   "metadata": {},
   "source": [
    "### Visualize Embeddings"
   ]
  },
  {
   "cell_type": "markdown",
   "metadata": {},
   "source": [
    "Now that the word embeddings have been created using Word2Vec, each word can be represented in terms of a vector with fixed length of 5. So by using the PCA lets flatten from 5 dimensions to 2 dimensions to visualize the relationship between different words."
   ]
  },
  {
   "cell_type": "code",
   "execution_count": 13,
   "metadata": {},
   "outputs": [],
   "source": [
    "import matplotlib.pyplot as plt"
   ]
  },
  {
   "cell_type": "code",
   "execution_count": 14,
   "metadata": {},
   "outputs": [
    {
     "data": {
      "text/plain": [
       "<matplotlib.collections.PathCollection at 0x1b5c71a97c8>"
      ]
     },
     "execution_count": 14,
     "metadata": {},
     "output_type": "execute_result"
    },
    {
     "data": {
      "image/png": "[encoded data removed]",
      "text/plain": [
       "<Figure size 432x288 with 1 Axes>"
      ]
     },
     "metadata": {
      "needs_background": "light"
     },
     "output_type": "display_data"
    }
   ],
   "source": [
    "from sklearn.decomposition import PCA\n",
    "pca = PCA(n_components=2) # Reducing from 5 dimensions to 2 dimensions for visualization\n",
    "results = pca.fit_transform(X)\n",
    "\n",
    "plt.scatter(results[:,0],results[:,1])"
   ]
  },
  {
   "cell_type": "code",
   "execution_count": 16,
   "metadata": {},
   "outputs": [
    {
     "data": {
      "image/png": "[encoded data removed]",
      "text/plain": [
       "<Figure size 432x288 with 1 Axes>"
      ]
     },
     "metadata": {
      "needs_background": "light"
     },
     "output_type": "display_data"
    }
   ],
   "source": [
    "plt.scatter(results[:,0],results[:,1])\n",
    "words = list(w2v.wv.vocab)\n",
    "\n",
    "for i,word in enumerate(words):\n",
    "    plt.annotate(word, xy=(results[i, 0], results[i, 1]))\n",
    "\n",
    "plt.show()"
   ]
  },
  {
   "cell_type": "code",
   "execution_count": null,
   "metadata": {},
   "outputs": [],
   "source": []
  }
 ],
 "metadata": {
  "kernelspec": {
   "display_name": "Python 3",
   "language": "python",
   "name": "python3"
  },
  "language_info": {
   "codemirror_mode": {
    "name": "ipython",
    "version": 3
   },
   "file_extension": ".py",
   "mimetype": "text/x-python",
   "name": "python",
   "nbconvert_exporter": "python",
   "pygments_lexer": "ipython3",
   "version": "3.7.6"
  }
 },
 "nbformat": 4,
 "nbformat_minor": 2
}
